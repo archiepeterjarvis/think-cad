{
 "cells": [
  {
   "cell_type": "markdown",
   "id": "2d1ada45b1ddbfb2",
   "metadata": {},
   "source": "### Take data exported from label studio and convert to spacy suitable format"
  },
  {
   "cell_type": "code",
   "execution_count": 34,
   "id": "initial_id",
   "metadata": {
    "ExecuteTime": {
     "end_time": "2025-06-12T15:32:45.520975Z",
     "start_time": "2025-06-12T15:32:45.516799Z"
    },
    "collapsed": true
   },
   "outputs": [],
   "source": [
    "import json"
   ]
  },
  {
   "cell_type": "code",
   "execution_count": 35,
   "id": "e00898cfb15c60c4",
   "metadata": {
    "ExecuteTime": {
     "end_time": "2025-06-12T15:32:45.541213Z",
     "start_time": "2025-06-12T15:32:45.525296Z"
    }
   },
   "outputs": [],
   "source": [
    "classes = [\"Shape\", \"ShapeSubType\", \"Unit\", \"Dimension\"]\n",
    "\n",
    "converted = {\"classes\": classes, \"annotations\": []}"
   ]
  },
  {
   "cell_type": "code",
   "execution_count": 36,
   "id": "d7dca96c380653ea",
   "metadata": {
    "ExecuteTime": {
     "end_time": "2025-06-12T15:32:45.560945Z",
     "start_time": "2025-06-12T15:32:45.551853Z"
    }
   },
   "outputs": [],
   "source": [
    "input_file = \"labelstudio_export.json\"\n",
    "with open(input_file, \"r\") as f:\n",
    "    data = json.load(f)"
   ]
  },
  {
   "cell_type": "code",
   "execution_count": 37,
   "id": "c3a56144f137fcde",
   "metadata": {
    "ExecuteTime": {
     "end_time": "2025-06-12T15:32:45.580675Z",
     "start_time": "2025-06-12T15:32:45.570036Z"
    }
   },
   "outputs": [],
   "source": [
    "for item in data:\n",
    "    converted[\"annotations\"].append(\n",
    "        [\n",
    "            item[\"value\"],\n",
    "            {\n",
    "                \"entities\": [\n",
    "                    [\n",
    "                        lbl[\"start\"],\n",
    "                        lbl[\"end\"],\n",
    "                        lbl[\"labels\"][0],\n",
    "                    ]\n",
    "                    for lbl in item[\"lbl\"]\n",
    "                ]\n",
    "            },\n",
    "        ]\n",
    "    )"
   ]
  },
  {
   "cell_type": "markdown",
   "id": "9982e79176088c3d",
   "metadata": {},
   "source": "### Convert the converted data to spacy format"
  },
  {
   "cell_type": "code",
   "execution_count": 38,
   "id": "64213c965cef3c23",
   "metadata": {
    "ExecuteTime": {
     "end_time": "2025-06-12T15:32:45.599992Z",
     "start_time": "2025-06-12T15:32:45.591418Z"
    }
   },
   "outputs": [],
   "source": [
    "import spacy\n",
    "from spacy.tokens import DocBin\n",
    "from tqdm import tqdm"
   ]
  },
  {
   "cell_type": "code",
   "execution_count": 39,
   "id": "9ba65901df3f2e1d",
   "metadata": {
    "ExecuteTime": {
     "end_time": "2025-06-12T15:32:45.622374Z",
     "start_time": "2025-06-12T15:32:45.608559Z"
    }
   },
   "outputs": [],
   "source": [
    "def convert(path, dataset):\n",
    "    nlp = spacy.blank(\"en\")\n",
    "    db = DocBin()\n",
    "    for text, annot in tqdm(dataset):\n",
    "        doc = nlp.make_doc(text)\n",
    "        ents = []\n",
    "        for start, end, label in annot[\"entities\"]:\n",
    "            span = doc.char_span(start, end, label=label, alignment_mode=\"contract\")\n",
    "            if span is None:\n",
    "                print(\"Skipping entity\")\n",
    "            else:\n",
    "                ents.append(span)\n",
    "        doc.ents = ents\n",
    "        db.add(doc)\n",
    "    db.to_disk(path)"
   ]
  },
  {
   "cell_type": "code",
   "execution_count": 40,
   "id": "8730b06e7c7bee7",
   "metadata": {
    "ExecuteTime": {
     "end_time": "2025-06-12T15:32:45.862969Z",
     "start_time": "2025-06-12T15:32:45.632107Z"
    }
   },
   "outputs": [
    {
     "name": "stderr",
     "output_type": "stream",
     "text": [
      "100%|██████████| 1/1 [00:00<00:00, 929.79it/s]\n",
      "100%|██████████| 1/1 [00:00<00:00, 1806.33it/s]\n"
     ]
    }
   ],
   "source": [
    "TRAIN_DATA = converted[\"annotations\"][:1]\n",
    "DEV_DATA = converted[\"annotations\"][1:]\n",
    "\n",
    "convert(\"train.spacy\", TRAIN_DATA)\n",
    "convert(\"dev.spacy\", DEV_DATA)"
   ]
  },
  {
   "cell_type": "markdown",
   "id": "53f1f6bc193d9547",
   "metadata": {},
   "source": "### Create the config file"
  },
  {
   "cell_type": "code",
   "execution_count": 41,
   "id": "f16ed08158b64ac",
   "metadata": {
    "ExecuteTime": {
     "end_time": "2025-06-12T15:32:53.353058Z",
     "start_time": "2025-06-12T15:32:45.875879Z"
    }
   },
   "outputs": [
    {
     "name": "stdout",
     "output_type": "stream",
     "text": [
      "\u001b[38;5;4m[i] Generated config template specific for your use case\u001b[0m\n",
      "- Language: en\n",
      "- Pipeline: ner\n",
      "- Optimize for: efficiency\n",
      "- Hardware: GPU\n",
      "- Transformer: roberta-base\n",
      "\u001b[38;5;2m[+] Auto-filled config with all values\u001b[0m\n",
      "\u001b[38;5;2m[+] Saved config\u001b[0m\n",
      "config.cfg\n",
      "You can now add your data and train your pipeline:\n",
      "python -m spacy train config.cfg --paths.train ./train.spacy --paths.dev ./dev.spacy\n"
     ]
    }
   ],
   "source": [
    "!python -m spacy init config config.cfg --lang en --pipeline ner --optimize efficiency --gpu --force"
   ]
  },
  {
   "cell_type": "markdown",
   "id": "646d132e15f6579e",
   "metadata": {},
   "source": "### Train the model"
  },
  {
   "cell_type": "code",
   "execution_count": 2,
   "id": "9fcfe4435405e8fd",
   "metadata": {
    "ExecuteTime": {
     "end_time": "2025-06-12T15:54:07.404783Z",
     "start_time": "2025-06-12T15:53:36.668533Z"
    }
   },
   "outputs": [
    {
     "name": "stdout",
     "output_type": "stream",
     "text": [
      "^C\n"
     ]
    }
   ],
   "source": [
    "!python -m spacy train config.cfg --paths.train ./train.spacy --paths.dev ./dev.spacy --gpu-id 0 --output ./output"
   ]
  }
 ],
 "metadata": {
  "kernelspec": {
   "display_name": "Python 3",
   "language": "python",
   "name": "python3"
  },
  "language_info": {
   "codemirror_mode": {
    "name": "ipython",
    "version": 2
   },
   "file_extension": ".py",
   "mimetype": "text/x-python",
   "name": "python",
   "nbconvert_exporter": "python",
   "pygments_lexer": "ipython2",
   "version": "2.7.6"
  }
 },
 "nbformat": 4,
 "nbformat_minor": 5
}
